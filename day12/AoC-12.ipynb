{
 "cells": [
  {
   "cell_type": "code",
   "execution_count": 46,
   "metadata": {},
   "outputs": [],
   "source": [
    "from collections import Counter,defaultdict"
   ]
  },
  {
   "cell_type": "markdown",
   "metadata": {},
   "source": [
    "<center>Part One"
   ]
  },
  {
   "cell_type": "code",
   "execution_count": 47,
   "metadata": {},
   "outputs": [],
   "source": [
    "E = defaultdict(list)\n",
    "for line in open('2.txt'):\n",
    "    a,b = line.strip().split('-')\n",
    "    E[a].append(b)\n",
    "    E[b].append(a)"
   ]
  },
  {
   "cell_type": "code",
   "execution_count": 48,
   "metadata": {},
   "outputs": [],
   "source": [
    "def vai(E, s, score):\n",
    "    for cada in E[s[-2]+s[-1]]:\n",
    "        if cada == 'end':\n",
    "            score += 1\n",
    "        elif cada != 'start' and cada.isupper() or (cada.islower() and (cada in s) == False):\n",
    "            score = vai(E,s+cada,score)\n",
    "    return score     "
   ]
  },
  {
   "cell_type": "code",
   "execution_count": 49,
   "metadata": {},
   "outputs": [
    {
     "name": "stdout",
     "output_type": "stream",
     "text": [
      "4011\n"
     ]
    }
   ],
   "source": [
    "score = 0\n",
    "for i in E['start']:\n",
    "    s = i\n",
    "    score = vai(E,s,score)\n",
    "print(score)    "
   ]
  },
  {
   "cell_type": "markdown",
   "metadata": {},
   "source": [
    "<center>Part Two"
   ]
  },
  {
   "cell_type": "code",
   "execution_count": 50,
   "metadata": {},
   "outputs": [],
   "source": [
    "E = defaultdict(list)\n",
    "for line in open('2.txt'):\n",
    "    a,b = line.strip().split('-')\n",
    "    E[a].append(b)\n",
    "    E[b].append(a)"
   ]
  },
  {
   "cell_type": "code",
   "execution_count": 51,
   "metadata": {},
   "outputs": [],
   "source": [
    "def check(s): #this function probably shouldn't even exist but if it works it works. this is what slows down the program a bit, but not that much\n",
    "    s = [s[i:i+2] for i in range(len(s))]\n",
    "    c = Counter(s)\n",
    "    for key,v in c.items():\n",
    "        if key.islower() and v >=2:\n",
    "            return False\n",
    "    return True"
   ]
  },
  {
   "cell_type": "code",
   "execution_count": 52,
   "metadata": {},
   "outputs": [],
   "source": [
    "def vai(E, s, score):\n",
    "    for cada in E[s[-2]+s[-1]]:\n",
    "        if cada == 'end':\n",
    "            score += 1\n",
    "        elif cada != 'start' and cada.isupper() or (cada.islower() and (cada in s) == False) or (cada.islower() and (cada in s) == True and check(s) == True):\n",
    "            score = vai(E,s+cada,score)\n",
    "    return score "
   ]
  },
  {
   "cell_type": "code",
   "execution_count": 53,
   "metadata": {},
   "outputs": [
    {
     "name": "stdout",
     "output_type": "stream",
     "text": [
      "108035\n"
     ]
    }
   ],
   "source": [
    "score = 0\n",
    "for i in E['start']:\n",
    "    s = i\n",
    "    score = vai(E,s,score)\n",
    "print(score)    "
   ]
  }
 ],
 "metadata": {
  "interpreter": {
   "hash": "d8ba23cb4c627b9fffb33e2b5edb8cc3f1505c2b4ac643cb9206b621e34802d5"
  },
  "kernelspec": {
   "display_name": "Python 3.8.12 64-bit ('comp': conda)",
   "language": "python",
   "name": "python3"
  },
  "language_info": {
   "codemirror_mode": {
    "name": "ipython",
    "version": 3
   },
   "file_extension": ".py",
   "mimetype": "text/x-python",
   "name": "python",
   "nbconvert_exporter": "python",
   "pygments_lexer": "ipython3",
   "version": "3.8.12"
  },
  "orig_nbformat": 4
 },
 "nbformat": 4,
 "nbformat_minor": 2
}
