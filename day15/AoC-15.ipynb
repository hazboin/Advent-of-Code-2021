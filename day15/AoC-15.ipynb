{
 "cells": [
  {
   "cell_type": "code",
   "execution_count": 2,
   "metadata": {},
   "outputs": [],
   "source": [
    "import heapq\n",
    "import numpy as np\n",
    "from numpy import inf"
   ]
  },
  {
   "cell_type": "markdown",
   "metadata": {},
   "source": [
    "<center>Part One"
   ]
  },
  {
   "cell_type": "code",
   "execution_count": 13,
   "metadata": {},
   "outputs": [],
   "source": [
    "m, d, v = [], [], []\n",
    "for line in open('2.txt'):\n",
    "    m.append([int(i) for i in line.strip()])\n",
    "    d.append([inf for _ in line.strip()])\n",
    "    v.append([False for _ in line.strip()])"
   ]
  },
  {
   "cell_type": "code",
   "execution_count": 14,
   "metadata": {},
   "outputs": [],
   "source": [
    "stack = [(0,0,0)]\n",
    "len_l, len_c = len(m), len(m[0])\n",
    "while stack:\n",
    "    x, l, c = heapq.heappop(stack)\n",
    "    \n",
    "    if l==len_l-1 and c==len_c-1:\n",
    "        break\n",
    "    \n",
    "    if v[l][c] == True:\n",
    "        continue\n",
    "    \n",
    "    for dl,dc in [(0,-1),(0,1),(1,0),(-1,0)]:\n",
    "        ll, cc = l+dl, c+dc\n",
    "        if 0<=ll<len_l and 0<=cc<len_c and v[ll][cc] == False:\n",
    "            if x + m[ll][cc] < d[ll][cc]:\n",
    "                d[ll][cc] = x + m[ll][cc]\n",
    "            if (_,ll,cc) not in stack:\n",
    "                heapq.heappush(stack,(d[ll][cc],ll,cc))\n",
    "    v[l][c] = True"
   ]
  },
  {
   "cell_type": "code",
   "execution_count": 15,
   "metadata": {},
   "outputs": [
    {
     "name": "stdout",
     "output_type": "stream",
     "text": [
      "508\n"
     ]
    }
   ],
   "source": [
    "print(d[-1][-1])"
   ]
  },
  {
   "cell_type": "markdown",
   "metadata": {},
   "source": [
    "<center>Part Two"
   ]
  },
  {
   "cell_type": "code",
   "execution_count": 22,
   "metadata": {},
   "outputs": [],
   "source": [
    "m, d, v = [], [], []\n",
    "for line in open('2.txt'):\n",
    "    m.append([int(i) for i in line.strip()])"
   ]
  },
  {
   "cell_type": "code",
   "execution_count": 23,
   "metadata": {},
   "outputs": [],
   "source": [
    "tilew = len(m)\n",
    "tileh = len(m[0])"
   ]
  },
  {
   "cell_type": "code",
   "execution_count": 24,
   "metadata": {},
   "outputs": [],
   "source": [
    "for _ in range(4):\n",
    "    for row in m:\n",
    "        tail = row[-tilew:]\n",
    "        row.extend((x + 1) if x < 9 else 1 for x in tail)\n",
    "for _ in range(4):\n",
    "    for row in m[-tileh:]:\n",
    "        row = [(x + 1) if x < 9 else 1 for x in row]\n",
    "        m.append(row)"
   ]
  },
  {
   "cell_type": "code",
   "execution_count": 25,
   "metadata": {},
   "outputs": [],
   "source": [
    "d = [[np.inf for _ in m[0]] for _ in m]\n",
    "v = [[False for _ in m[0]] for _ in m]\n",
    "d[0][0] = 0"
   ]
  },
  {
   "cell_type": "code",
   "execution_count": 26,
   "metadata": {},
   "outputs": [],
   "source": [
    "stack = [(0,0,0)]\n",
    "len_l, len_c = len(m), len(m[0])\n",
    "while stack:\n",
    "    x, l, c = heapq.heappop(stack)\n",
    "    \n",
    "    if l==len_l-1 and c==len_c-1:\n",
    "        break\n",
    "    \n",
    "    if v[l][c] == True:\n",
    "        continue\n",
    "    \n",
    "    for dl,dc in [(0,-1),(0,1),(1,0),(-1,0)]:\n",
    "        ll, cc = l+dl, c+dc\n",
    "        if 0<=ll<len_l and 0<=cc<len_c and v[ll][cc] == False:\n",
    "            if x + m[ll][cc] < d[ll][cc]:\n",
    "                d[ll][cc] = x + m[ll][cc]\n",
    "            if (_,ll,cc) not in stack:\n",
    "                heapq.heappush(stack,(d[ll][cc],ll,cc))\n",
    "    v[l][c] = True"
   ]
  },
  {
   "cell_type": "code",
   "execution_count": 27,
   "metadata": {},
   "outputs": [
    {
     "name": "stdout",
     "output_type": "stream",
     "text": [
      "2872\n"
     ]
    }
   ],
   "source": [
    "print(d[-1][-1])"
   ]
  }
 ],
 "metadata": {
  "interpreter": {
   "hash": "d8ba23cb4c627b9fffb33e2b5edb8cc3f1505c2b4ac643cb9206b621e34802d5"
  },
  "kernelspec": {
   "display_name": "Python 3.8.12 64-bit ('comp': conda)",
   "language": "python",
   "name": "python3"
  },
  "language_info": {
   "codemirror_mode": {
    "name": "ipython",
    "version": 3
   },
   "file_extension": ".py",
   "mimetype": "text/x-python",
   "name": "python",
   "nbconvert_exporter": "python",
   "pygments_lexer": "ipython3",
   "version": "3.8.8"
  },
  "orig_nbformat": 4
 },
 "nbformat": 4,
 "nbformat_minor": 2
}
