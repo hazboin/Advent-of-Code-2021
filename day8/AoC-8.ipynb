{
 "cells": [
  {
   "cell_type": "code",
   "execution_count": 10,
   "metadata": {},
   "outputs": [],
   "source": [
    "import pandas as pd\n",
    "from collections import Counter"
   ]
  },
  {
   "cell_type": "markdown",
   "metadata": {},
   "source": [
    "# <center>Part One (VERY scuffed solution)"
   ]
  },
  {
   "cell_type": "code",
   "execution_count": 11,
   "metadata": {},
   "outputs": [],
   "source": [
    "d = pd.read_csv('2.txt', header = None, delimiter=\"|\") #read file"
   ]
  },
  {
   "cell_type": "code",
   "execution_count": 12,
   "metadata": {},
   "outputs": [],
   "source": [
    "s = 0\n",
    "FINAL = ['abcefg','cf','acdeg','acdfg','bcdf','abdfg','abdefg','acf','abcdefg','abcdfg']"
   ]
  },
  {
   "cell_type": "code",
   "execution_count": 13,
   "metadata": {},
   "outputs": [],
   "source": [
    "for index, row in d.iterrows():\n",
    "    p = []\n",
    "    p.append(row[0])\n",
    "    p.append(row[1])\n",
    "    numbers = p[0].split()\n",
    "    t = Counter(''.join(numbers))\n",
    "    ###\n",
    "    ac = [k for k,v in t.items() if v == 8]\n",
    "    qual = \"\" #este vai ser o c verdadeiro\n",
    "    for i in numbers:   \n",
    "        if len(i) == 2:\n",
    "            for j in ac:\n",
    "                if j in i:\n",
    "                    qual = j\n",
    "    \n",
    "    dg = [k for k,v in t.items() if v == 7]\n",
    "    qual2 = \"\" #este vai ser o d\n",
    "    for i in numbers:\n",
    "        if len(i) == 4:\n",
    "            for j in dg:\n",
    "                if j in i:\n",
    "                    qual2 = j \n",
    "    ###\n",
    "    for l, r in t.items():\n",
    "        if r == 9:\n",
    "            t[l] = \"f\"\n",
    "        if r == 6:\n",
    "            t[l] = \"b\"\n",
    "        if r == 4:\n",
    "            t[l] = \"e\"\n",
    "        if l == qual: #ac\n",
    "            t[l] = \"c\"\n",
    "        if l == qual2: #dg\n",
    "            t[l] = \"d\"\n",
    "\n",
    "    for l, r in t.items():\n",
    "        if r == 8:\n",
    "            t[l] = \"a\"\n",
    "        if r == 7:\n",
    "            t[l] = \"g\" \n",
    "            \n",
    "            \n",
    "    new_dic = {}        \n",
    "    for l, r in t.items():\n",
    "        new_dic[ord(l)] = r\n",
    "    t = new_dic\n",
    "    ###\n",
    "    traduzido = p[1].translate(t) \n",
    "    ###\n",
    "    for i in traduzido.split():\n",
    "        u = FINAL.index(''.join(sorted(i)))\n",
    "        if u in [1,4,7,8]:\n",
    "            s += 1\n"
   ]
  },
  {
   "cell_type": "code",
   "execution_count": 14,
   "metadata": {},
   "outputs": [
    {
     "name": "stdout",
     "output_type": "stream",
     "text": [
      "330\n"
     ]
    }
   ],
   "source": [
    "print(s)"
   ]
  },
  {
   "cell_type": "markdown",
   "metadata": {},
   "source": [
    "# <center>Part Two (VERY scuffed solution)"
   ]
  },
  {
   "cell_type": "code",
   "execution_count": 15,
   "metadata": {},
   "outputs": [],
   "source": [
    "d = pd.read_csv('2.txt', header = None, delimiter=\"|\") #read file"
   ]
  },
  {
   "cell_type": "code",
   "execution_count": 16,
   "metadata": {},
   "outputs": [],
   "source": [
    "s = 0\n",
    "FINAL = ['deagbc','ab','dafgc','dafbc','eafb','defbc','defgbc','dab','deafgbc','deafbc']\n",
    "FINAL = [''.join(sorted(i)) for i in FINAL]"
   ]
  },
  {
   "cell_type": "code",
   "execution_count": 17,
   "metadata": {},
   "outputs": [],
   "source": [
    "for index, row in d.iterrows():\n",
    "    p = []\n",
    "    p.append(row[0])\n",
    "    p.append(row[1])\n",
    "    numbers = p[0].split()\n",
    "    t = Counter(''.join(numbers))\n",
    "    ###\n",
    "    ac = [k for k,v in t.items() if v == 8]\n",
    "    qual = \"\" #este vai ser o c verdadeiro\n",
    "    for i in numbers:   \n",
    "        if len(i) == 2:\n",
    "            for j in ac:\n",
    "                if j in i:\n",
    "                    qual = j\n",
    "    \n",
    "    dg = [k for k,v in t.items() if v == 7]\n",
    "    qual2 = \"\" #este vai ser o d\n",
    "    for i in numbers:\n",
    "        if len(i) == 4:\n",
    "            for j in dg:\n",
    "                if j in i:\n",
    "                    qual2 = j \n",
    "    ###\n",
    "    for l, r in t.items():\n",
    "        if r == 9:\n",
    "            t[l] = \"b\"\n",
    "        if r == 6:\n",
    "            t[l] = \"e\"\n",
    "        if r == 4:\n",
    "            t[l] = \"g\"\n",
    "        if l == qual: #ac\n",
    "            t[l] = \"a\"\n",
    "        if l == qual2: #dg\n",
    "            t[l] = \"f\"\n",
    "\n",
    "    for l, r in t.items():\n",
    "        if r == 8:\n",
    "            t[l] = \"d\"\n",
    "        if r == 7:\n",
    "            t[l] = \"c\" \n",
    "            \n",
    "            \n",
    "    new_dic = {}        \n",
    "    for l, r in t.items():\n",
    "        new_dic[ord(l)] = r\n",
    "    t = new_dic\n",
    "    ###\n",
    "    traduzido = p[1].translate(t) \n",
    "    ###\n",
    "    str0 = \"\"\n",
    "    for i in traduzido.split():\n",
    "        u = FINAL.index(''.join(sorted(i)))\n",
    "        str0 += str(u)\n",
    "    s += int(str0)    "
   ]
  },
  {
   "cell_type": "code",
   "execution_count": 18,
   "metadata": {},
   "outputs": [
    {
     "name": "stdout",
     "output_type": "stream",
     "text": [
      "1010472\n"
     ]
    }
   ],
   "source": [
    "print(s)"
   ]
  }
 ],
 "metadata": {
  "interpreter": {
   "hash": "f822c6631fbf080c71a7c09c5a0df3526ba47a0b1b1faccad05e53c3e72cee9e"
  },
  "kernelspec": {
   "display_name": "Python 3.8.8 64-bit ('base': conda)",
   "language": "python",
   "name": "python3"
  },
  "language_info": {
   "codemirror_mode": {
    "name": "ipython",
    "version": 3
   },
   "file_extension": ".py",
   "mimetype": "text/x-python",
   "name": "python",
   "nbconvert_exporter": "python",
   "pygments_lexer": "ipython3",
   "version": "3.8.8"
  },
  "orig_nbformat": 4
 },
 "nbformat": 4,
 "nbformat_minor": 2
}
