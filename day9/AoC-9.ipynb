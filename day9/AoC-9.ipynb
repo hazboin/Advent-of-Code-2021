{
 "cells": [
  {
   "cell_type": "code",
   "execution_count": 1,
   "metadata": {},
   "outputs": [],
   "source": [
    "import pandas as pd\n",
    "import numpy as np"
   ]
  },
  {
   "cell_type": "markdown",
   "metadata": {},
   "source": [
    "# <center> Part One"
   ]
  },
  {
   "cell_type": "code",
   "execution_count": 2,
   "metadata": {},
   "outputs": [],
   "source": [
    "d = pd.read_csv('2.txt',header = None) #read file\n",
    "d = d.to_numpy()\n",
    "d = np.array([[int(i) for i in str(j[0])] for j in d])\n",
    "    "
   ]
  },
  {
   "cell_type": "code",
   "execution_count": 3,
   "metadata": {},
   "outputs": [],
   "source": [
    "ll = np.ones((len(d[0]),), dtype=int)*10\n",
    "cc = np.ones((len(d)+2,), dtype=int)*10\n",
    "d = np.insert(d, 0, ll, 0)\n",
    "d = np.insert(d, len(d), ll, 0)\n",
    "d = np.insert(d, 0, cc, 1)\n",
    "d = np.insert(d, len(d[0]), cc, 1)"
   ]
  },
  {
   "cell_type": "code",
   "execution_count": 4,
   "metadata": {},
   "outputs": [],
   "source": [
    "s = 0\n",
    "for r in range(1,len(d)-1):\n",
    "    for c in range(1,len(d[0])-1):\n",
    "        if d[r][c] < d[r][c-1] and d[r][c] < d[r][c+1] and d[r][c] < d[r-1][c] and d[r][c] < d[r+1][c]:\n",
    "            s += d[r][c] + 1"
   ]
  },
  {
   "cell_type": "code",
   "execution_count": 5,
   "metadata": {},
   "outputs": [
    {
     "name": "stdout",
     "output_type": "stream",
     "text": [
      "496\n"
     ]
    }
   ],
   "source": [
    "print(s)"
   ]
  },
  {
   "cell_type": "markdown",
   "metadata": {},
   "source": [
    "# <center> Part Two"
   ]
  },
  {
   "cell_type": "code",
   "execution_count": 6,
   "metadata": {},
   "outputs": [],
   "source": [
    "d = pd.read_csv('2.txt',header = None) #read file\n",
    "d = d.to_numpy()\n",
    "d = np.array([[int(i) for i in str(j[0])] for j in d])\n",
    "ll = np.ones((len(d[0]),), dtype=int)*9\n",
    "cc = np.ones((len(d)+2,), dtype=int)*9\n",
    "d = np.insert(d, 0, ll, 0)\n",
    "d = np.insert(d, len(d), ll, 0)\n",
    "d = np.insert(d, 0, cc, 1)\n",
    "d = np.insert(d, len(d[0]), cc, 1)"
   ]
  },
  {
   "cell_type": "code",
   "execution_count": 7,
   "metadata": {},
   "outputs": [],
   "source": [
    "visited = np.array([[False for _ in range(len(d[0]))]for _ in range(len(d))])"
   ]
  },
  {
   "cell_type": "code",
   "execution_count": 8,
   "metadata": {},
   "outputs": [],
   "source": [
    "def sea(x,y,d,visited, total):\n",
    "    \n",
    "    if d[y][x+1] != 9 and visited[y][x+1] == False:\n",
    "        total += 1\n",
    "        visited[y][x+1] = True\n",
    "        _, _, _ , visited, total = sea(x+1,y,d,visited,total)\n",
    "        \n",
    "    if d[y][x-1] != 9 and visited[y][x-1] == False:\n",
    "        total += 1\n",
    "        visited[y][x-1] = True\n",
    "        _, _, _ , visited, total = sea(x-1,y,d,visited,total)\n",
    "        \n",
    "    if d[y+1][x] != 9 and visited[y+1][x] == False:\n",
    "        total += 1\n",
    "        visited[y+1][x] = True\n",
    "        _, _, _ , visited, total = sea(x,y+1,d,visited,total)\n",
    "        \n",
    "    if d[y-1][x] != 9 and visited[y-1][x] == False:\n",
    "        total += 1\n",
    "        visited[y-1][x] = True\n",
    "        _, _, _ , visited, total = sea(x,y-1,d,visited,total)\n",
    "    \n",
    "    return 0, 0, 0 , visited, total\n",
    "    "
   ]
  },
  {
   "cell_type": "code",
   "execution_count": 9,
   "metadata": {},
   "outputs": [
    {
     "name": "stdout",
     "output_type": "stream",
     "text": [
      "902880\n"
     ]
    }
   ],
   "source": [
    "s = 0\n",
    "T = []\n",
    "for r in range(1,len(d)-1):\n",
    "    for c in range(1,len(d[0])-1):\n",
    "        if d[r][c] != 9 and visited[r][c] == False:\n",
    "            total = 0\n",
    "            _, _, _ , visited, total = sea(c,r,d,visited,total)\n",
    "            \n",
    "            T.append(total)\n",
    "            \n",
    "T.sort()               \n",
    "print(T[-1]*T[-2]*T[-3])           "
   ]
  }
 ],
 "metadata": {
  "interpreter": {
   "hash": "f822c6631fbf080c71a7c09c5a0df3526ba47a0b1b1faccad05e53c3e72cee9e"
  },
  "kernelspec": {
   "display_name": "Python 3.8.8 64-bit ('base': conda)",
   "language": "python",
   "name": "python3"
  },
  "language_info": {
   "codemirror_mode": {
    "name": "ipython",
    "version": 3
   },
   "file_extension": ".py",
   "mimetype": "text/x-python",
   "name": "python",
   "nbconvert_exporter": "python",
   "pygments_lexer": "ipython3",
   "version": "3.8.8"
  },
  "orig_nbformat": 4
 },
 "nbformat": 4,
 "nbformat_minor": 2
}
