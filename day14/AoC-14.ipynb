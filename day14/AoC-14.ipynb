{
 "cells": [
  {
   "cell_type": "code",
   "execution_count": 1,
   "metadata": {},
   "outputs": [],
   "source": [
    "from collections import defaultdict, Counter"
   ]
  },
  {
   "cell_type": "markdown",
   "metadata": {},
   "source": [
    "<center>Part One"
   ]
  },
  {
   "cell_type": "code",
   "execution_count": 2,
   "metadata": {},
   "outputs": [],
   "source": [
    "E = defaultdict()\n",
    "initial = ''\n",
    "for line in open('2.txt'):\n",
    "    if '->' in line:\n",
    "        a,b = line.strip().split(' -> ')\n",
    "        E[a] = b\n",
    "    else:\n",
    "        initial = line.rstrip()"
   ]
  },
  {
   "cell_type": "code",
   "execution_count": 3,
   "metadata": {},
   "outputs": [],
   "source": [
    "def insert_str(s, add, i):\n",
    "    return s[:i] + add + s[i:]"
   ]
  },
  {
   "cell_type": "code",
   "execution_count": 4,
   "metadata": {},
   "outputs": [
    {
     "name": "stdout",
     "output_type": "stream",
     "text": [
      "2745\n"
     ]
    }
   ],
   "source": [
    "current = initial\n",
    "for j in range(10):\n",
    "    next = current\n",
    "    for i in range(0, len(current)-1, 1):\n",
    "        to_insert = current[i]+current[i+1]\n",
    "        next = insert_str(next, E[to_insert], 2*i+1)\n",
    "    current = next\n",
    "\n",
    "c = Counter(current).most_common()\n",
    "print(c[0][1]-c[-1][1])\n"
   ]
  },
  {
   "cell_type": "markdown",
   "metadata": {},
   "source": [
    "<center>Part Two"
   ]
  },
  {
   "cell_type": "code",
   "execution_count": 5,
   "metadata": {},
   "outputs": [],
   "source": [
    "E = defaultdict()\n",
    "C = defaultdict()\n",
    "D = defaultdict()\n",
    "initial = ''\n",
    "for line in open('2.txt'):\n",
    "    if '->' in line:\n",
    "        a,b = line.strip().split(' -> ')\n",
    "        E[a] = b\n",
    "        C[a] = 0\n",
    "        D[b] = 0\n",
    "    else:\n",
    "        initial = line.rstrip()\n",
    "        \n",
    "for i in range(0, len(initial)-1, 1):\n",
    "    C[initial[i]+initial[i+1]]+=1\n",
    "\n",
    "for i in range(len(initial)):\n",
    "    D[initial[i]]+=1"
   ]
  },
  {
   "cell_type": "code",
   "execution_count": 6,
   "metadata": {},
   "outputs": [
    {
     "name": "stdout",
     "output_type": "stream",
     "text": [
      "3420801168962\n"
     ]
    }
   ],
   "source": [
    "for _ in range(40):\n",
    "    C_2 = C.copy()\n",
    "    for key, value in C.items():\n",
    "        s1 = key[0] + E[key]\n",
    "        s2 = E[key] + key[1]\n",
    "        C_2[key] -= value\n",
    "        C_2[s1] += value\n",
    "        C_2[s2] += value\n",
    "        D[E[key]]+=value\n",
    "    C = C_2\n",
    "    \n",
    "print(max(D.values())-min(D.values()))"
   ]
  }
 ],
 "metadata": {
  "interpreter": {
   "hash": "d8ba23cb4c627b9fffb33e2b5edb8cc3f1505c2b4ac643cb9206b621e34802d5"
  },
  "kernelspec": {
   "display_name": "Python 3.8.12 64-bit ('comp': conda)",
   "language": "python",
   "name": "python3"
  },
  "language_info": {
   "codemirror_mode": {
    "name": "ipython",
    "version": 3
   },
   "file_extension": ".py",
   "mimetype": "text/x-python",
   "name": "python",
   "nbconvert_exporter": "python",
   "pygments_lexer": "ipython3",
   "version": "3.8.8"
  },
  "orig_nbformat": 4
 },
 "nbformat": 4,
 "nbformat_minor": 2
}
