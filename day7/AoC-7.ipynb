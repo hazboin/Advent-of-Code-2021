{
 "cells": [
  {
   "cell_type": "code",
   "execution_count": 1,
   "metadata": {},
   "outputs": [],
   "source": [
    "import pandas as pd"
   ]
  },
  {
   "cell_type": "markdown",
   "metadata": {},
   "source": [
    "# <center>Part One"
   ]
  },
  {
   "cell_type": "code",
   "execution_count": 2,
   "metadata": {},
   "outputs": [],
   "source": [
    "d = pd.read_csv('2.txt', header = None) #read file\n",
    "\n",
    "p = list(d.iloc[0])"
   ]
  },
  {
   "cell_type": "code",
   "execution_count": 3,
   "metadata": {},
   "outputs": [
    {
     "name": "stdout",
     "output_type": "stream",
     "text": [
      "347509\n"
     ]
    }
   ],
   "source": [
    "xt = []\n",
    "for x in range(max(p)+1):\n",
    "    xt.append(sum([abs(i-x) for i in p]))\n",
    "\n",
    "print(min(xt))\n",
    "    "
   ]
  },
  {
   "cell_type": "markdown",
   "metadata": {},
   "source": [
    "# <center>Part Two"
   ]
  },
  {
   "cell_type": "code",
   "execution_count": 4,
   "metadata": {},
   "outputs": [],
   "source": [
    "d = pd.read_csv('2.txt', header = None) #read file\n",
    "\n",
    "p = list(d.iloc[0])"
   ]
  },
  {
   "cell_type": "code",
   "execution_count": 5,
   "metadata": {},
   "outputs": [
    {
     "name": "stdout",
     "output_type": "stream",
     "text": [
      "98257206\n"
     ]
    }
   ],
   "source": [
    "xt = []\n",
    "for x in range(max(p)+1):\n",
    "    xt.append(sum([abs(i-x)*(abs(i-x)+1)/2 for i in p]))\n",
    "\n",
    "print(int(min(xt)))"
   ]
  }
 ],
 "metadata": {
  "interpreter": {
   "hash": "f822c6631fbf080c71a7c09c5a0df3526ba47a0b1b1faccad05e53c3e72cee9e"
  },
  "kernelspec": {
   "display_name": "Python 3.8.8 64-bit ('base': conda)",
   "language": "python",
   "name": "python3"
  },
  "language_info": {
   "codemirror_mode": {
    "name": "ipython",
    "version": 3
   },
   "file_extension": ".py",
   "mimetype": "text/x-python",
   "name": "python",
   "nbconvert_exporter": "python",
   "pygments_lexer": "ipython3",
   "version": "3.8.8"
  },
  "orig_nbformat": 4
 },
 "nbformat": 4,
 "nbformat_minor": 2
}
