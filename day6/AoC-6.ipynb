{
 "cells": [
  {
   "cell_type": "code",
   "execution_count": 1,
   "metadata": {},
   "outputs": [],
   "source": [
    "import pandas as pd"
   ]
  },
  {
   "cell_type": "markdown",
   "metadata": {},
   "source": [
    "# <center>Part One / Part Two (same code)"
   ]
  },
  {
   "cell_type": "code",
   "execution_count": 2,
   "metadata": {},
   "outputs": [
    {
     "name": "stdout",
     "output_type": "stream",
     "text": [
      "1629570219571\n"
     ]
    }
   ],
   "source": [
    "d = pd.read_csv('2.txt', header = None) #read file\n",
    "\n",
    "t = list(d.iloc[0])\n",
    "\n",
    "YEARS = 256 #number of years you want to calculate, that's why it serves for both parts, just change this number\n",
    "\n",
    "c = [0]*9   #this will count how many fish are in what day\n",
    "\n",
    "for i in t:\n",
    "    c[i] += 1   #putting initial values in the counter array\n",
    "\n",
    "\n",
    "for _ in range(YEARS):\n",
    "    a = c[0]    #remember the fish that are in day 0 \n",
    "    c[8], c[7], c[6], c[5], c[4], c[3], c[2], c[1], c[0] = 0, c[8], c[7], c[6], c[5], c[4], c[3], c[2], c[1]    #passing all fish to the next day\n",
    "    c[6] += a   #add the fish that were in day 0 which pass to day 6\n",
    "    c[8] += a   #new fish\n",
    "    \n",
    "    \n",
    "print(sum(c))"
   ]
  }
 ],
 "metadata": {
  "interpreter": {
   "hash": "f822c6631fbf080c71a7c09c5a0df3526ba47a0b1b1faccad05e53c3e72cee9e"
  },
  "kernelspec": {
   "display_name": "Python 3.8.8 64-bit ('base': conda)",
   "language": "python",
   "name": "python3"
  },
  "language_info": {
   "codemirror_mode": {
    "name": "ipython",
    "version": 3
   },
   "file_extension": ".py",
   "mimetype": "text/x-python",
   "name": "python",
   "nbconvert_exporter": "python",
   "pygments_lexer": "ipython3",
   "version": "3.8.8"
  },
  "orig_nbformat": 4
 },
 "nbformat": 4,
 "nbformat_minor": 2
}
