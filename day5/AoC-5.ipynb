{
 "cells": [
  {
   "cell_type": "code",
   "execution_count": 1,
   "metadata": {},
   "outputs": [],
   "source": [
    "import numpy as np\n",
    "import pandas as pd"
   ]
  },
  {
   "cell_type": "markdown",
   "metadata": {},
   "source": [
    "# <center>Part One"
   ]
  },
  {
   "cell_type": "code",
   "execution_count": 2,
   "metadata": {},
   "outputs": [],
   "source": [
    "d = pd.read_csv('2.txt', header = None, delimiter= \"->\", engine= \"python\") #usar o engine do python porque o 'c' engine não suporta regex separators"
   ]
  },
  {
   "cell_type": "code",
   "execution_count": 3,
   "metadata": {},
   "outputs": [],
   "source": [
    "first = d[0].to_numpy()\n",
    "second = d[1].to_numpy()\n",
    "first = [i.split(',') for i in first]\n",
    "second = [i.split(',') for i in second]"
   ]
  },
  {
   "cell_type": "code",
   "execution_count": 4,
   "metadata": {},
   "outputs": [],
   "source": [
    "for c,(i,j) in enumerate(zip(first,second)):\n",
    "    x1,y1 = int(i[0]),int(i[1])\n",
    "    x2,y2 = int(j[0]),int(j[1])\n",
    "    if x1 != x2 and y1 != y2:\n",
    "        del first[c]\n",
    "        del second[c]"
   ]
  },
  {
   "cell_type": "code",
   "execution_count": 5,
   "metadata": {},
   "outputs": [],
   "source": [
    "contador = np.zeros((1000,1000))"
   ]
  },
  {
   "cell_type": "code",
   "execution_count": 6,
   "metadata": {},
   "outputs": [],
   "source": [
    "for c,(i,j) in enumerate(zip(first,second)):\n",
    "    x1,y1 = int(i[0]),int(i[1])\n",
    "    x2,y2 = int(j[0]),int(j[1])\n",
    "    if x1 == x2: #mesmo x\n",
    "        for l in range(min(y1,y2),max(y1,y2)+1):\n",
    "            contador[l][x1] += 1\n",
    "    if y1 == y2: #mesmo y\n",
    "        for l in range(min(x1,x2),max(x1,x2)+1):\n",
    "            contador[y1][l] += 1\n",
    "        \n",
    "        "
   ]
  },
  {
   "cell_type": "code",
   "execution_count": 7,
   "metadata": {},
   "outputs": [
    {
     "name": "stdout",
     "output_type": "stream",
     "text": [
      "5197\n"
     ]
    }
   ],
   "source": [
    "print(sum([1 for i in contador.flatten() if i >= 2])) \n",
    "    "
   ]
  },
  {
   "cell_type": "markdown",
   "metadata": {},
   "source": [
    "# <center>Part Two"
   ]
  },
  {
   "cell_type": "code",
   "execution_count": 8,
   "metadata": {},
   "outputs": [],
   "source": [
    "d = pd.read_csv('2.txt', header = None, delimiter=\"->\", engine=\"python\") #usar o engine do python porque o 'c' engine não suporta regex separators"
   ]
  },
  {
   "cell_type": "code",
   "execution_count": 9,
   "metadata": {},
   "outputs": [],
   "source": [
    "first = d[0].to_numpy()\n",
    "second = d[1].to_numpy()\n",
    "first = [i.split(',') for i in first]\n",
    "second = [i.split(',') for i in second]"
   ]
  },
  {
   "cell_type": "code",
   "execution_count": 10,
   "metadata": {},
   "outputs": [],
   "source": [
    "for c,(i,j) in enumerate(zip(first,second)):\n",
    "    x1,y1 = int(i[0]),int(i[1])\n",
    "    x2,y2 = int(j[0]),int(j[1])\n",
    "    if x1 != x2 and y1 != y2 and abs(x2-x1) != abs(y2-y1):\n",
    "        del first[c]\n",
    "        del second[c]"
   ]
  },
  {
   "cell_type": "code",
   "execution_count": 11,
   "metadata": {},
   "outputs": [],
   "source": [
    "contador = np.zeros((1000,1000))"
   ]
  },
  {
   "cell_type": "code",
   "execution_count": 12,
   "metadata": {},
   "outputs": [],
   "source": [
    "for c,(i,j) in enumerate(zip(first,second)):\n",
    "    x1,y1 = int(i[0]),int(i[1])\n",
    "    x2,y2 = int(j[0]),int(j[1])\n",
    "    \n",
    "    if x1 == x2: #mesmo x\n",
    "        for l in range(min(y1,y2),max(y1,y2)+1):\n",
    "            contador[l][x1] += 1\n",
    "    if y1 == y2: #mesmo y\n",
    "        for l in range(min(x1,x2),max(x1,x2)+1):\n",
    "            contador[y1][l] += 1\n",
    "            \n",
    "    if x1 != x2 and y1 != y2 and abs(x2-x1) == abs(y2-y1): #caso diagonal\n",
    "        if x1 > x2:\n",
    "            if y1 > y2:\n",
    "                for x,y in zip(range(x2,x1+1),range(y2,y1+1)):\n",
    "                    contador[y][x] += 1\n",
    "            if y1 < y2:\n",
    "                for x,y in zip(range(x2,x1+1),range(y2,y1-1,-1)):\n",
    "                    contador[y][x] += 1\n",
    "        if x1 < x2:\n",
    "            if y1 > y2:\n",
    "                for x,y in zip(range(x1,x2+1),range(y1,y2-1,-1)):\n",
    "                    contador[y][x] += 1\n",
    "            if y1 < y2:\n",
    "                for x,y in zip(range(x1,x2+1),range(y1,y2+1)):\n",
    "                    contador[y][x] += 1"
   ]
  },
  {
   "cell_type": "code",
   "execution_count": 13,
   "metadata": {},
   "outputs": [
    {
     "name": "stdout",
     "output_type": "stream",
     "text": [
      "18605\n"
     ]
    }
   ],
   "source": [
    "print(sum([1 for i in contador.flatten() if i >= 2])) "
   ]
  }
 ],
 "metadata": {
  "interpreter": {
   "hash": "f822c6631fbf080c71a7c09c5a0df3526ba47a0b1b1faccad05e53c3e72cee9e"
  },
  "kernelspec": {
   "display_name": "Python 3.8.8 64-bit ('base': conda)",
   "language": "python",
   "name": "python3"
  },
  "language_info": {
   "codemirror_mode": {
    "name": "ipython",
    "version": 3
   },
   "file_extension": ".py",
   "mimetype": "text/x-python",
   "name": "python",
   "nbconvert_exporter": "python",
   "pygments_lexer": "ipython3",
   "version": "3.8.8"
  },
  "orig_nbformat": 4
 },
 "nbformat": 4,
 "nbformat_minor": 2
}
