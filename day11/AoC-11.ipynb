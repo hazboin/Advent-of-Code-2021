{
 "cells": [
  {
   "cell_type": "code",
   "execution_count": 65,
   "metadata": {},
   "outputs": [],
   "source": [
    "import numpy as np\n",
    "import pandas as pd"
   ]
  },
  {
   "cell_type": "markdown",
   "metadata": {},
   "source": [
    "<center>Part One"
   ]
  },
  {
   "cell_type": "code",
   "execution_count": 66,
   "metadata": {},
   "outputs": [],
   "source": [
    "d = pd.read_csv(\"2.txt\", header = None, dtype='str')\n",
    "d1 = d.to_numpy()\n",
    "d = [[int(column) for column in row[0]] for row in d1]\n",
    "adj = [(0,1), (0,-1), (1,0),(-1,0), (1,1),(1,-1),(-1,1),(-1,-1)]\n"
   ]
  },
  {
   "cell_type": "code",
   "execution_count": 67,
   "metadata": {},
   "outputs": [],
   "source": [
    "def ct(d,r,c,score,visited): #serves for part one and two\n",
    "    adj = [(0,1), (0,-1), (1,0),(-1,0), (1,1),(1,-1),(-1,1),(-1,-1)]\n",
    "    if d[r][c] > 9 and visited[r][c] == False:\n",
    "        score += 1\n",
    "        visited[r][c] = True\n",
    "        for i,j in adj:\n",
    "            r_adj = r+i\n",
    "            c_adj = c+j\n",
    "            if 0 <= r_adj < len(d) and 0 <= c_adj < len(d[r]):\n",
    "                d[r_adj][c_adj]+=1\n",
    "                _,_,_,score,visited = ct(d,r_adj,c_adj,score,visited)\n",
    "    return 0,0,0,score,visited"
   ]
  },
  {
   "cell_type": "code",
   "execution_count": 68,
   "metadata": {},
   "outputs": [],
   "source": [
    "score = 0\n",
    "for _ in range(100):\n",
    "    visited = [[False for column in row[0]] for row in d1]\n",
    "    for r in range(len(d)):\n",
    "        for c in range(len(d[r])):\n",
    "            d[r][c]+=1\n",
    "    for r in range(len(d)):\n",
    "        for c in range(len(d[r])):\n",
    "            _,_,_,score,visited=ct(d,r,c,score,visited)\n",
    "    for r in range(len(d)):\n",
    "        for c in range(len(d[r])):\n",
    "            if d[r][c] > 9:\n",
    "                d[r][c] = 0            \n",
    "    "
   ]
  },
  {
   "cell_type": "code",
   "execution_count": 69,
   "metadata": {},
   "outputs": [
    {
     "name": "stdout",
     "output_type": "stream",
     "text": [
      "1697\n"
     ]
    }
   ],
   "source": [
    "print(score)"
   ]
  },
  {
   "cell_type": "markdown",
   "metadata": {},
   "source": [
    "<center>Part Two"
   ]
  },
  {
   "cell_type": "code",
   "execution_count": 70,
   "metadata": {},
   "outputs": [],
   "source": [
    "d = pd.read_csv(\"2.txt\", header = None, dtype='str')\n",
    "d1 = d.to_numpy()\n",
    "d = [[int(column) for column in row[0]] for row in d1]\n",
    "adj = [(0,1), (0,-1), (1,0),(-1,0), (1,1),(1,-1),(-1,1),(-1,-1)]"
   ]
  },
  {
   "cell_type": "code",
   "execution_count": 71,
   "metadata": {},
   "outputs": [],
   "source": [
    "score = 0\n",
    "score2 = 0\n",
    "time = 0\n",
    "while 1:\n",
    "    time+=1\n",
    "    visited = [[False for _ in row[0]] for row in d1]\n",
    "    for r in range(len(d)):\n",
    "        for c in range(len(d[r])):\n",
    "            d[r][c]+=1\n",
    "    for r in range(len(d)):\n",
    "        for c in range(len(d[r])):\n",
    "            _,_,_,score,visited=ct(d,r,c,score,visited)\n",
    "    for r in range(len(d)):\n",
    "        for c in range(len(d[r])):\n",
    "            if d[r][c] > 9:\n",
    "                d[r][c] = 0    \n",
    "    flat_d = np.array(d).flatten() \n",
    "    flat_v = np.array(visited).flatten()  \n",
    "    if sum(flat_v) == len(flat_d):\n",
    "        score2 = time\n",
    "        break"
   ]
  },
  {
   "cell_type": "code",
   "execution_count": 72,
   "metadata": {},
   "outputs": [
    {
     "name": "stdout",
     "output_type": "stream",
     "text": [
      "344\n"
     ]
    }
   ],
   "source": [
    "print(score2)"
   ]
  }
 ],
 "metadata": {
  "interpreter": {
   "hash": "d8ba23cb4c627b9fffb33e2b5edb8cc3f1505c2b4ac643cb9206b621e34802d5"
  },
  "kernelspec": {
   "display_name": "Python 3.8.12 64-bit ('comp': conda)",
   "language": "python",
   "name": "python3"
  },
  "language_info": {
   "codemirror_mode": {
    "name": "ipython",
    "version": 3
   },
   "file_extension": ".py",
   "mimetype": "text/x-python",
   "name": "python",
   "nbconvert_exporter": "python",
   "pygments_lexer": "ipython3",
   "version": "3.8.12"
  },
  "orig_nbformat": 4
 },
 "nbformat": 4,
 "nbformat_minor": 2
}
