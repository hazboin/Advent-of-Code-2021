{
 "cells": [
  {
   "cell_type": "code",
   "execution_count": 80,
   "metadata": {},
   "outputs": [],
   "source": [
    "import pandas as pd"
   ]
  },
  {
   "cell_type": "markdown",
   "metadata": {},
   "source": [
    "<center>Part One"
   ]
  },
  {
   "cell_type": "code",
   "execution_count": 101,
   "metadata": {},
   "outputs": [],
   "source": [
    "d = pd.read_csv(\"2.txt\", header = None, dtype='str')\n",
    "d = d.to_numpy()"
   ]
  },
  {
   "cell_type": "code",
   "execution_count": 102,
   "metadata": {},
   "outputs": [],
   "source": [
    "def pont(j):\n",
    "    if j == \")\":\n",
    "        return 3\n",
    "    if j == \"]\":\n",
    "        return 57\n",
    "    if j == \"}\":\n",
    "        return 1197\n",
    "    if j == \">\":\n",
    "        return 25137"
   ]
  },
  {
   "cell_type": "code",
   "execution_count": 103,
   "metadata": {},
   "outputs": [],
   "source": [
    "soma = 0\n",
    "for i in d:\n",
    "    s = i[0]\n",
    "    n = 0  \n",
    "    while 1:\n",
    "        if n+1 > len(s)-1:\n",
    "            break\n",
    "\n",
    "        j = s[n]\n",
    "        next = s[n+1]\n",
    "        \n",
    "        if j == \"[\":\n",
    "            if next == \"]\":\n",
    "                s = s[:n]+s[n+2:]\n",
    "                n -= 2\n",
    "            elif next in [\"}\",\")\",\">\"]:\n",
    "                soma += pont(next)\n",
    "                break\n",
    "         \n",
    "        if j == \"(\":\n",
    "            if next == \")\":\n",
    "                s = s[:n]+s[n+2:]\n",
    "                n -= 2\n",
    "            elif next in [\"}\",\"]\",\">\"]:\n",
    "                soma += pont(next)\n",
    "                break\n",
    "                \n",
    "        if j == \"{\":\n",
    "            if next == \"}\":\n",
    "                s = s[:n]+s[n+2:]\n",
    "                n -= 2\n",
    "            elif next in [\"]\",\")\",\">\"]:\n",
    "                soma += pont(next)\n",
    "                break\n",
    "            \n",
    "        if j == \"<\":\n",
    "            if next == \">\":\n",
    "                s = s[:n]+s[n+2:]\n",
    "                n -= 2\n",
    "            elif next in [\"}\",\")\",\"]\"]:\n",
    "                soma += pont(next)\n",
    "                break\n",
    "        n+=1\n",
    "        \n",
    "            "
   ]
  },
  {
   "cell_type": "code",
   "execution_count": 104,
   "metadata": {},
   "outputs": [
    {
     "name": "stdout",
     "output_type": "stream",
     "text": [
      "344193\n"
     ]
    }
   ],
   "source": [
    "print(soma)"
   ]
  },
  {
   "cell_type": "markdown",
   "metadata": {},
   "source": [
    "<center>Part Two"
   ]
  },
  {
   "cell_type": "code",
   "execution_count": 151,
   "metadata": {},
   "outputs": [],
   "source": [
    "d = pd.read_csv(\"2.txt\", header = None, dtype='str')\n",
    "d = d.to_numpy()"
   ]
  },
  {
   "cell_type": "code",
   "execution_count": 152,
   "metadata": {},
   "outputs": [],
   "source": [
    "def pont2(j):\n",
    "    if j == \"(\":\n",
    "        return 1\n",
    "    if j == \"[\":\n",
    "        return 2\n",
    "    if j == \"{\":\n",
    "        return 3\n",
    "    if j == \"<\":\n",
    "        return 4"
   ]
  },
  {
   "cell_type": "code",
   "execution_count": 153,
   "metadata": {},
   "outputs": [],
   "source": [
    "soma = 0\n",
    "bons = []\n",
    "for c,i in enumerate(d):\n",
    "    s = i[0]\n",
    "    n = 0  \n",
    "    while 1:\n",
    "        if n+1 > len(s)-1:\n",
    "            bons.append(s)\n",
    "            break\n",
    "\n",
    "        j = s[n]\n",
    "        next = s[n+1]\n",
    "        \n",
    "        if j == \"[\":\n",
    "            if next == \"]\":\n",
    "                s = s[:n]+s[n+2:]\n",
    "                n -= 2\n",
    "            elif next in [\"}\",\")\",\">\"]:\n",
    "                soma += pont(next)\n",
    "                break\n",
    "         \n",
    "        if j == \"(\":\n",
    "            if next == \")\":\n",
    "                s = s[:n]+s[n+2:]\n",
    "                n -= 2\n",
    "            elif next in [\"}\",\"]\",\">\"]:\n",
    "                soma += pont(next)\n",
    "                break\n",
    "                \n",
    "        if j == \"{\":\n",
    "            if next == \"}\":\n",
    "                s = s[:n]+s[n+2:]\n",
    "                n -= 2\n",
    "            elif next in [\"]\",\")\",\">\"]:\n",
    "                soma += pont(next)\n",
    "                break\n",
    "            \n",
    "        if j == \"<\":\n",
    "            if next == \">\":\n",
    "                s = s[:n]+s[n+2:]\n",
    "                n -= 2\n",
    "            elif next in [\"}\",\")\",\"]\"]:\n",
    "                soma += pont(next)\n",
    "                break\n",
    "        n+=1\n",
    "        \n",
    "            "
   ]
  },
  {
   "cell_type": "code",
   "execution_count": 154,
   "metadata": {},
   "outputs": [],
   "source": [
    "s_array = []\n",
    "for i in bons:\n",
    "    s=0\n",
    "    for j in i[::-1]:\n",
    "        s*=5\n",
    "        s+=pont2(j)\n",
    "    s_array.append(s)\n",
    "s_array.sort()"
   ]
  },
  {
   "cell_type": "code",
   "execution_count": 155,
   "metadata": {},
   "outputs": [
    {
     "name": "stdout",
     "output_type": "stream",
     "text": [
      "3241238967\n"
     ]
    }
   ],
   "source": [
    "print(s_array[(len(s_array) - 1)//2])"
   ]
  },
  {
   "cell_type": "markdown",
   "metadata": {},
   "source": [
    "<center>Clean way?"
   ]
  },
  {
   "cell_type": "code",
   "execution_count": 192,
   "metadata": {},
   "outputs": [],
   "source": [
    "d = pd.read_csv(\"2.txt\", header = None, dtype='str')\n",
    "d = d.to_numpy().flatten()"
   ]
  },
  {
   "cell_type": "code",
   "execution_count": 193,
   "metadata": {},
   "outputs": [],
   "source": [
    "conv = {\n",
    "    \"(\": \")\",\n",
    "    \"[\": \"]\",\n",
    "    \"{\": \"}\",\n",
    "    \"<\": \">\",\n",
    "}"
   ]
  },
  {
   "cell_type": "code",
   "execution_count": 194,
   "metadata": {},
   "outputs": [],
   "source": [
    "score = 0\n",
    "score2 = []\n",
    "for s in d:\n",
    "    s2 = 0\n",
    "    stack = []\n",
    "    for letra in s:\n",
    "        if letra in \"([{<\":\n",
    "            stack.append(letra)\n",
    "        else:\n",
    "            last = stack.pop()\n",
    "            if conv[last] != letra:\n",
    "                score += pont(letra)\n",
    "                break\n",
    "    else:\n",
    "        for bom in stack[::-1]:\n",
    "            bom\n",
    "            s2*=5\n",
    "            s2+=pont2(bom)\n",
    "        score2.append(s2)\n",
    "score2.sort()        "
   ]
  },
  {
   "cell_type": "code",
   "execution_count": 195,
   "metadata": {},
   "outputs": [
    {
     "name": "stdout",
     "output_type": "stream",
     "text": [
      "344193\n"
     ]
    }
   ],
   "source": [
    "print(score)"
   ]
  },
  {
   "cell_type": "code",
   "execution_count": 200,
   "metadata": {},
   "outputs": [
    {
     "name": "stdout",
     "output_type": "stream",
     "text": [
      "3241238967\n"
     ]
    }
   ],
   "source": [
    "print(score2[len(score2)//2])"
   ]
  }
 ],
 "metadata": {
  "interpreter": {
   "hash": "d8ba23cb4c627b9fffb33e2b5edb8cc3f1505c2b4ac643cb9206b621e34802d5"
  },
  "kernelspec": {
   "display_name": "Python 3.8.12 64-bit ('comp': conda)",
   "language": "python",
   "name": "python3"
  },
  "language_info": {
   "codemirror_mode": {
    "name": "ipython",
    "version": 3
   },
   "file_extension": ".py",
   "mimetype": "text/x-python",
   "name": "python",
   "nbconvert_exporter": "python",
   "pygments_lexer": "ipython3",
   "version": "3.8.12"
  },
  "orig_nbformat": 4
 },
 "nbformat": 4,
 "nbformat_minor": 2
}
