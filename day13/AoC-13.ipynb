{
 "cells": [
  {
   "cell_type": "code",
   "execution_count": 120,
   "metadata": {},
   "outputs": [],
   "source": [
    "import numpy as np"
   ]
  },
  {
   "cell_type": "markdown",
   "metadata": {},
   "source": [
    "<center>Part One"
   ]
  },
  {
   "cell_type": "code",
   "execution_count": 121,
   "metadata": {},
   "outputs": [],
   "source": [
    "xx, yy, folds = [], [], []\n",
    "for line in open('2.txt'):\n",
    "    a,b = line.strip().split(',')\n",
    "    if a in ['x','y']:\n",
    "        folds.append([a,int(b)])\n",
    "    else:\n",
    "        xx.append(int(a))\n",
    "        yy.append(int(b))"
   ]
  },
  {
   "cell_type": "code",
   "execution_count": 122,
   "metadata": {},
   "outputs": [],
   "source": [
    "max_yy = max(yy)\n",
    "max_xx = max(xx)\n",
    "matrix = np.ones((max_yy+1,max_xx+1))\n",
    "for l,c in zip(yy,xx):\n",
    "    matrix[l][c] = 0"
   ]
  },
  {
   "cell_type": "code",
   "execution_count": 123,
   "metadata": {},
   "outputs": [
    {
     "name": "stdout",
     "output_type": "stream",
     "text": [
      "647\n"
     ]
    }
   ],
   "source": [
    "f = folds[0]\n",
    "if f[0] == 'y':\n",
    "    n = f[1]\n",
    "    A = matrix[:n,]\n",
    "    B = matrix[n+1:,][::-1] \n",
    "    C = np.einsum('ij,ij->ij',A,B)\n",
    "else:\n",
    "    n = f[1]\n",
    "    A = matrix[:,:n]\n",
    "    B = matrix[:,n+1:][:, ::-1] \n",
    "    C = np.einsum('ij,ij->ij',A,B)\n",
    "print(np.sum(C == 0))  "
   ]
  },
  {
   "cell_type": "markdown",
   "metadata": {},
   "source": [
    "<center>Part Two"
   ]
  },
  {
   "cell_type": "code",
   "execution_count": 124,
   "metadata": {},
   "outputs": [],
   "source": [
    "xx, yy, folds = [], [], []\n",
    "for line in open('2.txt'):\n",
    "    a,b = line.strip().split(',')\n",
    "    if a in ['x','y']:\n",
    "        folds.append([a,int(b)])\n",
    "    else:\n",
    "        xx.append(int(a))\n",
    "        yy.append(int(b))"
   ]
  },
  {
   "cell_type": "code",
   "execution_count": 125,
   "metadata": {},
   "outputs": [],
   "source": [
    "max_yy = max(yy)\n",
    "max_xx = max(xx)\n",
    "matrix = np.ones((max_yy+1,max_xx+1))\n",
    "for l,c in zip(yy,xx):\n",
    "    matrix[l][c] = 0"
   ]
  },
  {
   "cell_type": "code",
   "execution_count": 126,
   "metadata": {},
   "outputs": [],
   "source": [
    "for i in range(len(folds)):\n",
    "    f = folds[i]\n",
    "    if f[0] == 'y':\n",
    "        n = f[1]\n",
    "        A = matrix[:n,]\n",
    "        B = matrix[n+1:,][::-1] \n",
    "        matrix = np.einsum('ij,ij->ij',A,B)      \n",
    "    else:\n",
    "        n = f[1]\n",
    "        A = matrix[:,:n]\n",
    "        B = matrix[:,n+1:][:, ::-1] \n",
    "        matrix = np.einsum('ij,ij->ij',A,B)    "
   ]
  },
  {
   "cell_type": "code",
   "execution_count": 131,
   "metadata": {},
   "outputs": [
    {
     "name": "stdout",
     "output_type": "stream",
     "text": [
      "#  # ####   ## #  #   ## ###   ##    ## \n",
      "#  # #       # #  #    # #  # #  #    # \n",
      "#### ###     # ####    # #  # #       # \n",
      "#  # #       # #  #    # ###  #       # \n",
      "#  # #    #  # #  # #  # # #  #  # #  # \n",
      "#  # ####  ##  #  #  ##  #  #  ##   ##  \n"
     ]
    }
   ],
   "source": [
    "for l in matrix:\n",
    "    for c in l:\n",
    "        if int(c) == 0:\n",
    "            print('#',end='')\n",
    "        else:\n",
    "            print(' ',end='')\n",
    "    print()"
   ]
  }
 ],
 "metadata": {
  "interpreter": {
   "hash": "d8ba23cb4c627b9fffb33e2b5edb8cc3f1505c2b4ac643cb9206b621e34802d5"
  },
  "kernelspec": {
   "display_name": "Python 3.8.12 64-bit ('comp': conda)",
   "language": "python",
   "name": "python3"
  },
  "language_info": {
   "codemirror_mode": {
    "name": "ipython",
    "version": 3
   },
   "file_extension": ".py",
   "mimetype": "text/x-python",
   "name": "python",
   "nbconvert_exporter": "python",
   "pygments_lexer": "ipython3",
   "version": "3.8.8"
  },
  "orig_nbformat": 4
 },
 "nbformat": 4,
 "nbformat_minor": 2
}
