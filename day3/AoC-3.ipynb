{
 "cells": [
  {
   "cell_type": "code",
   "execution_count": 1,
   "metadata": {},
   "outputs": [],
   "source": [
    "import numpy as np\n",
    "import pandas as pd"
   ]
  },
  {
   "cell_type": "markdown",
   "metadata": {},
   "source": [
    "# <center>Part One"
   ]
  },
  {
   "cell_type": "code",
   "execution_count": 65,
   "metadata": {},
   "outputs": [],
   "source": [
    "d = pd.read_csv('1.txt',header = None,dtype={0:'str'})\n",
    "d.columns = [\"n\"]"
   ]
  },
  {
   "cell_type": "code",
   "execution_count": 61,
   "metadata": {},
   "outputs": [],
   "source": [
    "contador = [0]*len(d[\"n\"][0])\n",
    "\n",
    "for i in d[\"n\"]:\n",
    "    for c,j in enumerate(i):\n",
    "        if j == \"1\":\n",
    "            contador[c]+=1\n",
    "        if j == \"0\":\n",
    "            contador[c]-=1            \n",
    "    "
   ]
  },
  {
   "cell_type": "code",
   "execution_count": 67,
   "metadata": {},
   "outputs": [],
   "source": [
    "gamma = \"\".join([str(1) if i > 0 else str(0) for i in contador])\n",
    "epsilon = \"\".join([str(0) if i > 0 else str(1) for i in contador])"
   ]
  },
  {
   "cell_type": "code",
   "execution_count": 68,
   "metadata": {},
   "outputs": [
    {
     "name": "stdout",
     "output_type": "stream",
     "text": [
      "4147524\n"
     ]
    }
   ],
   "source": [
    "print(int(gamma, 2)*int(epsilon, 2))"
   ]
  },
  {
   "cell_type": "markdown",
   "metadata": {},
   "source": [
    "# <center>Part Two"
   ]
  },
  {
   "cell_type": "code",
   "execution_count": 40,
   "metadata": {},
   "outputs": [],
   "source": [
    "d = pd.read_csv('2.txt',header = None,dtype={0:'str'})\n",
    "d.columns = [\"n\"]"
   ]
  },
  {
   "cell_type": "code",
   "execution_count": 69,
   "metadata": {},
   "outputs": [
    {
     "name": "stdout",
     "output_type": "stream",
     "text": [
      "['010110010011']\n"
     ]
    }
   ],
   "source": [
    "ones, zeros = [], []\n",
    "m = d[\"n\"].to_numpy()\n",
    "j = 0\n",
    "while(len(m)!=1):\n",
    "    ones, zeros = [], []\n",
    "    \n",
    "    for i in m:\n",
    "        if i[j]==\"1\":\n",
    "            ones.append(i)\n",
    "        if i[j]==\"0\":\n",
    "            zeros.append(i)\n",
    "\n",
    "    if len(ones) >= len(zeros):\n",
    "        m = ones\n",
    "    \n",
    "    else:\n",
    "        m = zeros\n",
    "    j+=1        \n",
    "\n",
    "OGR = m"
   ]
  },
  {
   "cell_type": "code",
   "execution_count": 71,
   "metadata": {},
   "outputs": [],
   "source": [
    "ones, zeros = [], []\n",
    "m = d[\"n\"].to_numpy()\n",
    "j = 0\n",
    "while(len(m)!=1):\n",
    "    ones, zeros = [], []\n",
    "    \n",
    "    for i in m:\n",
    "        if i[j]==\"1\":\n",
    "            ones.append(i)\n",
    "        if i[j]==\"0\":\n",
    "            zeros.append(i)\n",
    "\n",
    "    if len(ones) >= len(zeros):\n",
    "        m = zeros\n",
    "    else:\n",
    "        m = ones\n",
    "\n",
    "    j+=1   \n",
    "\n",
    "CO2 = m"
   ]
  },
  {
   "cell_type": "code",
   "execution_count": 45,
   "metadata": {},
   "outputs": [
    {
     "name": "stdout",
     "output_type": "stream",
     "text": [
      "3570354\n"
     ]
    }
   ],
   "source": [
    "print(int(OGR[0], 2)*int(CO2[0], 2))"
   ]
  },
  {
   "cell_type": "code",
   "execution_count": null,
   "metadata": {},
   "outputs": [],
   "source": []
  }
 ],
 "metadata": {
  "interpreter": {
   "hash": "f822c6631fbf080c71a7c09c5a0df3526ba47a0b1b1faccad05e53c3e72cee9e"
  },
  "kernelspec": {
   "display_name": "Python 3.8.8 64-bit ('base': conda)",
   "language": "python",
   "name": "python3"
  },
  "language_info": {
   "codemirror_mode": {
    "name": "ipython",
    "version": 3
   },
   "file_extension": ".py",
   "mimetype": "text/x-python",
   "name": "python",
   "nbconvert_exporter": "python",
   "pygments_lexer": "ipython3",
   "version": "3.8.8"
  },
  "orig_nbformat": 4
 },
 "nbformat": 4,
 "nbformat_minor": 2
}
