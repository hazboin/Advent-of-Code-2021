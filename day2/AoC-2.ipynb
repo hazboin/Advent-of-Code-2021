{
 "cells": [
  {
   "cell_type": "code",
   "execution_count": 1,
   "metadata": {},
   "outputs": [],
   "source": [
    "import numpy as np\n",
    "import pandas as pd"
   ]
  },
  {
   "cell_type": "markdown",
   "metadata": {},
   "source": [
    "# <center>Part One"
   ]
  },
  {
   "cell_type": "code",
   "execution_count": 65,
   "metadata": {},
   "outputs": [],
   "source": [
    "d = pd.read_csv('1.txt',header = None,delimiter=\" \")\n",
    "d.columns = [\"a\",\"n\"]"
   ]
  },
  {
   "cell_type": "code",
   "execution_count": 66,
   "metadata": {},
   "outputs": [],
   "source": [
    "pos = 0\n",
    "dep = 0\n",
    "for i,j in zip(d[\"a\"],d[\"n\"]):\n",
    "    if i == \"forward\":               \n",
    "        pos+=j\n",
    "    if i == \"down\":        \n",
    "        dep-=j\n",
    "    if i == \"up\":\n",
    "        dep+=j\n",
    "       "
   ]
  },
  {
   "cell_type": "code",
   "execution_count": 67,
   "metadata": {},
   "outputs": [
    {
     "name": "stdout",
     "output_type": "stream",
     "text": [
      "2147104\n"
     ]
    }
   ],
   "source": [
    "print(abs(pos*dep)) #por alguma razão era o módulo daquele valor (?)"
   ]
  },
  {
   "cell_type": "markdown",
   "metadata": {},
   "source": [
    "# <center>Part Two"
   ]
  },
  {
   "cell_type": "code",
   "execution_count": 68,
   "metadata": {},
   "outputs": [],
   "source": [
    "d1 = pd.read_csv('2.txt',header = None,delimiter=\" \")\n",
    "d1.columns = [\"a\",\"n\"]"
   ]
  },
  {
   "cell_type": "code",
   "execution_count": 69,
   "metadata": {},
   "outputs": [],
   "source": [
    "pos = 0\n",
    "dep = 0\n",
    "aim = 0\n",
    "for i,j in zip(d1[\"a\"],d1[\"n\"]):\n",
    "    if i == \"forward\":               \n",
    "        pos+=j\n",
    "        dep+=aim*j\n",
    "    if i == \"down\":        \n",
    "        aim+=j\n",
    "    if i == \"up\":\n",
    "        aim-=j"
   ]
  },
  {
   "cell_type": "code",
   "execution_count": 70,
   "metadata": {},
   "outputs": [
    {
     "name": "stdout",
     "output_type": "stream",
     "text": [
      "2044620088\n"
     ]
    }
   ],
   "source": [
    "print(pos*dep)"
   ]
  },
  {
   "cell_type": "code",
   "execution_count": null,
   "metadata": {},
   "outputs": [],
   "source": []
  }
 ],
 "metadata": {
  "interpreter": {
   "hash": "f822c6631fbf080c71a7c09c5a0df3526ba47a0b1b1faccad05e53c3e72cee9e"
  },
  "kernelspec": {
   "display_name": "Python 3.8.8 64-bit ('base': conda)",
   "language": "python",
   "name": "python3"
  },
  "language_info": {
   "codemirror_mode": {
    "name": "ipython",
    "version": 3
   },
   "file_extension": ".py",
   "mimetype": "text/x-python",
   "name": "python",
   "nbconvert_exporter": "python",
   "pygments_lexer": "ipython3",
   "version": "3.8.8"
  },
  "orig_nbformat": 4
 },
 "nbformat": 4,
 "nbformat_minor": 2
}
