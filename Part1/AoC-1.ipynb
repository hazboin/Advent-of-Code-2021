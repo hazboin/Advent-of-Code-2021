{
 "cells": [
  {
   "cell_type": "code",
   "execution_count": 14,
   "metadata": {},
   "outputs": [],
   "source": [
    "import numpy as np\n",
    "import pandas as pd"
   ]
  },
  {
   "cell_type": "markdown",
   "metadata": {},
   "source": [
    "# <center>Part One"
   ]
  },
  {
   "cell_type": "code",
   "execution_count": 15,
   "metadata": {},
   "outputs": [],
   "source": [
    "d = pd.read_csv('1.txt',header = None)\n",
    "d.columns = [\"depth\"]"
   ]
  },
  {
   "cell_type": "code",
   "execution_count": 16,
   "metadata": {},
   "outputs": [],
   "source": [
    "contador = 0\n",
    "intermedio = d[\"depth\"][0]\n",
    "for i in d[\"depth\"][1:]:\n",
    "    if i > intermedio:\n",
    "        contador+=1\n",
    "    else:\n",
    "        pass\n",
    "    intermedio = i"
   ]
  },
  {
   "cell_type": "code",
   "execution_count": 17,
   "metadata": {},
   "outputs": [
    {
     "name": "stdout",
     "output_type": "stream",
     "text": [
      "1559\n"
     ]
    }
   ],
   "source": [
    "print(contador)"
   ]
  },
  {
   "cell_type": "markdown",
   "metadata": {},
   "source": [
    "# <center>Part Two"
   ]
  },
  {
   "cell_type": "code",
   "execution_count": 18,
   "metadata": {},
   "outputs": [],
   "source": [
    "d1 = pd.read_csv('2.txt',header = None)\n",
    "d1.columns = [\"depth\"]"
   ]
  },
  {
   "cell_type": "code",
   "execution_count": 19,
   "metadata": {},
   "outputs": [],
   "source": [
    "contador = 0\n",
    "intermedio = d1[\"depth\"][0]+d1[\"depth\"][1]+d1[\"depth\"][2]\n",
    "\n",
    "for i,j,k in zip(d1[\"depth\"][1:],d1[\"depth\"][2:],d1[\"depth\"][3:]):\n",
    "    if i+j+k > intermedio:\n",
    "        contador+=1\n",
    "    else:\n",
    "        pass\n",
    "    intermedio = i+j+k"
   ]
  },
  {
   "cell_type": "code",
   "execution_count": 12,
   "metadata": {},
   "outputs": [
    {
     "name": "stdout",
     "output_type": "stream",
     "text": [
      "1600\n"
     ]
    }
   ],
   "source": [
    "print(contador)"
   ]
  }
 ],
 "metadata": {
  "interpreter": {
   "hash": "f822c6631fbf080c71a7c09c5a0df3526ba47a0b1b1faccad05e53c3e72cee9e"
  },
  "kernelspec": {
   "display_name": "Python 3.8.8 64-bit ('base': conda)",
   "language": "python",
   "name": "python3"
  },
  "language_info": {
   "codemirror_mode": {
    "name": "ipython",
    "version": 3
   },
   "file_extension": ".py",
   "mimetype": "text/x-python",
   "name": "python",
   "nbconvert_exporter": "python",
   "pygments_lexer": "ipython3",
   "version": "3.8.8"
  },
  "orig_nbformat": 4
 },
 "nbformat": 4,
 "nbformat_minor": 2
}
