{
 "cells": [
  {
   "cell_type": "code",
   "execution_count": 2,
   "metadata": {},
   "outputs": [],
   "source": [
    "import numpy as np\n",
    "import pandas as pd"
   ]
  },
  {
   "cell_type": "markdown",
   "metadata": {},
   "source": [
    "# <center>Part One"
   ]
  },
  {
   "cell_type": "code",
   "execution_count": 3,
   "metadata": {},
   "outputs": [],
   "source": [
    "d = pd.read_csv('1.txt',header = None,dtype={0:'str'})"
   ]
  },
  {
   "cell_type": "code",
   "execution_count": 4,
   "metadata": {},
   "outputs": [],
   "source": [
    "marked = d.iloc[0] \n",
    "marked = [int(i) for i in marked]"
   ]
  },
  {
   "cell_type": "code",
   "execution_count": 5,
   "metadata": {},
   "outputs": [],
   "source": [
    "FINAL = []\n",
    "f = []\n",
    "for c,i in enumerate(d.iloc[1:,0]):\n",
    "    temp = i.split()\n",
    "    a = []\n",
    "    for i in temp:\n",
    "        a.append(int(i))\n",
    "    f.append(a)\n",
    "FINAL = [f[i:i + 5] for i in range(0, len(f), 5)]    \n",
    "        "
   ]
  },
  {
   "cell_type": "code",
   "execution_count": 6,
   "metadata": {},
   "outputs": [],
   "source": [
    "contador_0 = [[False for _ in range(5)] for _ in range(500)]\n",
    "contador = [contador_0[i:i + 5] for i in range(0, len(contador_0), 5)] "
   ]
  },
  {
   "cell_type": "code",
   "execution_count": 7,
   "metadata": {},
   "outputs": [
    {
     "name": "stdout",
     "output_type": "stream",
     "text": [
      "ok\n",
      "[83, 2, [[False, False, True, True, False], [False, False, True, False, False], [False, True, True, True, True], [False, False, True, True, True], [False, True, True, True, False]], 66]\n"
     ]
    }
   ],
   "source": [
    "found = []\n",
    "def encontrar():\n",
    "    for m in marked:\n",
    "        for c in range(len(contador)):\n",
    "            for ll in range(5):\n",
    "                for cc in range(5):\n",
    "                    if m == FINAL[c][ll][cc]:\n",
    "                        contador[c][ll][cc] = True\n",
    "\n",
    "            for ll in range(5):\n",
    "                if all(i==True for i in contador[c][ll]):\n",
    "                    return[c, ll,contador[c],m]\n",
    "            \n",
    "            for ll in range(5):\n",
    "                if all(i==True for i in [*zip(*contador[c])][ll]):\n",
    "                    return[c,ll,contador[c],m]\n",
    "ok = encontrar()\n",
    "print(\"ok\") \n",
    "print(ok)              "
   ]
  },
  {
   "cell_type": "code",
   "execution_count": 8,
   "metadata": {},
   "outputs": [
    {
     "name": "stdout",
     "output_type": "stream",
     "text": [
      "99\n",
      "19\n",
      "9\n",
      "59\n",
      "92\n",
      "82\n",
      "69\n",
      "72\n",
      "2\n",
      "45\n",
      "93\n",
      "27\n"
     ]
    }
   ],
   "source": [
    "sum = 0\n",
    "for ll in range(5):\n",
    "    for cc in range(5):\n",
    "        if (ok[2])[ll][cc] == False:\n",
    "            sum += FINAL[ok[0]][ll][cc]\n",
    "            print(FINAL[ok[0]][ll][cc])\n",
    "          "
   ]
  },
  {
   "cell_type": "code",
   "execution_count": 9,
   "metadata": {},
   "outputs": [
    {
     "name": "stdout",
     "output_type": "stream",
     "text": [
      "44088\n"
     ]
    }
   ],
   "source": [
    "print(sum*ok[-1])"
   ]
  },
  {
   "cell_type": "markdown",
   "metadata": {},
   "source": [
    "# <center>Part Two"
   ]
  },
  {
   "cell_type": "code",
   "execution_count": 10,
   "metadata": {},
   "outputs": [],
   "source": [
    "d = pd.read_csv('1.txt',header = None,dtype={0:'str'})"
   ]
  },
  {
   "cell_type": "code",
   "execution_count": 11,
   "metadata": {},
   "outputs": [],
   "source": [
    "marked = d.iloc[0] \n",
    "marked = [int(i) for i in marked]"
   ]
  },
  {
   "cell_type": "code",
   "execution_count": 12,
   "metadata": {},
   "outputs": [],
   "source": [
    "FINAL = []\n",
    "f = []\n",
    "for c,i in enumerate(d.iloc[1:,0]):\n",
    "    temp = i.split()\n",
    "    a = []\n",
    "    for i in temp:\n",
    "        a.append(int(i))\n",
    "    f.append(a)\n",
    "FINAL = [f[i:i + 5] for i in range(0, len(f), 5)]   "
   ]
  },
  {
   "cell_type": "code",
   "execution_count": 13,
   "metadata": {},
   "outputs": [],
   "source": [
    "contador_0 = [[False for _ in range(5)] for _ in range(500)]\n",
    "contador = [contador_0[i:i + 5] for i in range(0, len(contador_0), 5)] "
   ]
  },
  {
   "cell_type": "code",
   "execution_count": 14,
   "metadata": {},
   "outputs": [
    {
     "name": "stdout",
     "output_type": "stream",
     "text": [
      "ok\n",
      "[9, 4, [[False, True, True, True, True], [True, False, True, True, True], [True, True, False, True, True], [True, False, True, True, True], [True, True, True, False, True]], 90]\n"
     ]
    }
   ],
   "source": [
    "found = []\n",
    "def encontrar():\n",
    "    g = [False]*len(contador)\n",
    "    for m in marked:\n",
    "        for c in range(len(contador)):\n",
    "            for ll in range(5):\n",
    "                for cc in range(5):\n",
    "                    if m == FINAL[c][ll][cc]:\n",
    "                        contador[c][ll][cc] = True\n",
    "\n",
    "            for ll in range(5):\n",
    "                if all(i==True for i in contador[c][ll]):\n",
    "                    g[c] = True\n",
    "                    if all(i==True for i in g):\n",
    "                        return[c, ll,contador[c],m]\n",
    "            \n",
    "            for ll in range(5):\n",
    "                if all(i==True for i in [*zip(*contador[c])][ll]):\n",
    "                    g[c] = True\n",
    "                    if all(i==True for i in g):                    \n",
    "                        return[c,ll,contador[c],m]\n",
    "ok = encontrar()\n",
    "print(\"ok\") \n",
    "print(ok)  "
   ]
  },
  {
   "cell_type": "code",
   "execution_count": 15,
   "metadata": {},
   "outputs": [
    {
     "name": "stdout",
     "output_type": "stream",
     "text": [
      "3\n",
      "78\n",
      "23\n",
      "79\n",
      "80\n"
     ]
    }
   ],
   "source": [
    "sum = 0\n",
    "for ll in range(5):\n",
    "    for cc in range(5):\n",
    "        if (ok[2])[ll][cc] == False:\n",
    "            sum += FINAL[ok[0]][ll][cc]\n",
    "            print(FINAL[ok[0]][ll][cc])"
   ]
  },
  {
   "cell_type": "code",
   "execution_count": 16,
   "metadata": {},
   "outputs": [
    {
     "name": "stdout",
     "output_type": "stream",
     "text": [
      "23670\n"
     ]
    }
   ],
   "source": [
    "print(sum*ok[-1])"
   ]
  }
 ],
 "metadata": {
  "interpreter": {
   "hash": "f822c6631fbf080c71a7c09c5a0df3526ba47a0b1b1faccad05e53c3e72cee9e"
  },
  "kernelspec": {
   "display_name": "Python 3.8.8 64-bit ('base': conda)",
   "language": "python",
   "name": "python3"
  },
  "language_info": {
   "codemirror_mode": {
    "name": "ipython",
    "version": 3
   },
   "file_extension": ".py",
   "mimetype": "text/x-python",
   "name": "python",
   "nbconvert_exporter": "python",
   "pygments_lexer": "ipython3",
   "version": "3.8.8"
  },
  "orig_nbformat": 4
 },
 "nbformat": 4,
 "nbformat_minor": 2
}
